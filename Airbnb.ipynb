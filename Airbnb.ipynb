{
 "cells": [
  {
   "cell_type": "code",
   "execution_count": 1,
   "id": "dbf7c978",
   "metadata": {},
   "outputs": [],
   "source": [
    "from selenium import webdriver\n",
    "from selenium.webdriver.common.by import By\n",
    "from selenium.webdriver.common.keys import Keys\n",
    "from selenium.webdriver.support.ui import WebDriverWait\n",
    "from time import sleep\n",
    "import csv\n",
    "from os.path import exists\n",
    "from os import mkdir\n",
    "from webdriver_manager.chrome import ChromeDriverManager"
   ]
  },
  {
   "cell_type": "code",
   "execution_count": 2,
   "id": "15392695",
   "metadata": {},
   "outputs": [
    {
     "name": "stderr",
     "output_type": "stream",
     "text": [
      "C:\\Users\\lynco\\AppData\\Local\\Temp/ipykernel_10316/2263663545.py:3: DeprecationWarning: executable_path has been deprecated, please pass in a Service object\n",
      "  driver = webdriver.Chrome(ChromeDriverManager().install(),options=chrome_options)\n"
     ]
    }
   ],
   "source": [
    "chrome_options = webdriver.ChromeOptions()\n",
    "chrome_options.add_argument('--start-maximized')\n",
    "driver = webdriver.Chrome(ChromeDriverManager().install(),options=chrome_options)"
   ]
  },
  {
   "cell_type": "code",
   "execution_count": 3,
   "id": "cf9aba32",
   "metadata": {},
   "outputs": [],
   "source": [
    "driver.get(\"https://airbnb.com.br/\")\n",
    "sleep(3)\n",
    "try:\n",
    "    anuncio = driver.find_element(By.XPATH,'//*[@aria-label=\"Fechar\"]')\n",
    "    anuncio.click()\n",
    "except:\n",
    "    pass"
   ]
  },
  {
   "cell_type": "code",
   "execution_count": 4,
   "id": "f1ad024f",
   "metadata": {},
   "outputs": [],
   "source": [
    "caixa = driver.find_element(By.XPATH,'//div//*[contains(text(),\"Qualquer lugar\")]')\n",
    "caixa.click()\n",
    "sleep(2)"
   ]
  },
  {
   "cell_type": "code",
   "execution_count": 5,
   "id": "808e1165",
   "metadata": {},
   "outputs": [],
   "source": [
    "busca = driver.find_element(By.CSS_SELECTOR,'.ivycze5')\n",
    "busca.send_keys('Itaboraí',Keys.RETURN)\n",
    "sleep(2)\n",
    "\n",
    "# busca = driver.find_element(By.XPATH,'//*[@id=\"/homes-1-input\"]')\n"
   ]
  },
  {
   "cell_type": "code",
   "execution_count": 6,
   "id": "98d8d0a8",
   "metadata": {},
   "outputs": [],
   "source": [
    "checkin = driver.find_element(By.XPATH,'//h2[contains(text(),\"janeiro\")]/ancestor::div[@class=\"_ytfarf\"]//*[text()=\"20\"]')\n",
    "checkin.click()\n",
    "sleep(2)\n",
    "checkout = driver.find_element(By.XPATH,'//h2[contains(text(),\"janeiro\")]/ancestor::div[@class=\"_ytfarf\"]//*[text()=\"23\"]')\n",
    "checkout.click()\n",
    "sleep(2)\n",
    "hospedes = driver.find_element(By.XPATH,'.//*[@id=\"search-tabpanel\"]/div/div[5]/div[1]/div[1]/div/div[1]')\n",
    "hospedes.click()\n",
    "sleep(2)\n",
    "adultos = driver.find_element(By.XPATH,'//*[@id=\"stepper-adults\"]/button[2]')\n",
    "adultos.click()\n",
    "adultos.click()\n",
    "sleep(2)\n",
    "buscar = driver.find_element(By.CSS_SELECTOR,'._kaq6tx')\n",
    "buscar.click()\n",
    "sleep(5)"
   ]
  },
  {
   "cell_type": "code",
   "execution_count": 7,
   "id": "9565a4ef",
   "metadata": {},
   "outputs": [],
   "source": [
    "qtdPag = driver.find_element(By.XPATH,'//*[@id=\"site-content\"]/div[2]/div[3]/div/div/nav/div/a[4]')\n",
    "qtdPag = int(qtdPag.text)"
   ]
  },
  {
   "cell_type": "code",
   "execution_count": null,
   "id": "a262d8be",
   "metadata": {
    "scrolled": true
   },
   "outputs": [
    {
     "name": "stdout",
     "output_type": "stream",
     "text": [
      "------------------- 1 ------------------\n",
      "Loft com Piscina e Academia no Centro de Itaboraí Centro, Rio de Janeiro, Brasil 135 540 135 4,77 · 1 cama de casal, 1 sofá-cama, 1 colchão extra, https://www.airbnb.com.br/rooms/48469638?adults=2&check_in=2023-01-20&check_out=2023-01-23&source_impression_id=p3_1673760188_ntvSp%2FmpEx%2FgUhvf\n",
      "Flat mobiliado em Itaboraí Itaboraí, Rio de Janeiro, Brasil 180 619 79 --- 2 camas de solteiro,1 sofá, https://www.airbnb.com.br/rooms/14087357?adults=2&check_in=2023-01-20&check_out=2023-01-23&source_impression_id=p3_1673760191_lY9Kouhs6vSAEF1c\n",
      "Solar do Artista Quarto 2 Itaboraí, Rio de Janeiro, Brasil 116 399 51 --- 1 cama de casal, https://www.airbnb.com.br/rooms/795480651209051583?adults=2&check_in=2023-01-20&check_out=2023-01-23&source_impression_id=p3_1673760195_9rQt4W3xPeTYS1Wn\n",
      "Oásis em Itaboraí: Flat no Enterprise Suíte Itaboraí, Rio de Janeiro, Brasil 150 515 65 ---  https://www.airbnb.com.br/rooms/735517556299828281?adults=2&check_in=2023-01-20&check_out=2023-01-23&source_impression_id=p3_1673760198_1vh8ZkwYVAWx6z%2BF\n",
      "Toque a Campainha no Flat com piscina/Wifi/Sauna Centro, Rio de Janeiro, Brasil 229 883 196 5,0 · 2 camas de solteiro,1 sofá, https://www.airbnb.com.br/rooms/48285326?adults=2&check_in=2023-01-20&check_out=2023-01-23&source_impression_id=p3_1673760202_vp543BGlCKclgh3h\n",
      "Charmoso apart. Ideal Comperj Itaboraí, Rio de Janeiro, Brasil 135 558 153 ---  https://www.airbnb.com.br/rooms/764232360271245292?adults=2&check_in=2023-01-20&check_out=2023-01-23&source_impression_id=p3_1673760205_80sRXAkNeTlX5s%2Bt\n",
      "Loft1 na floresta Guapimirim, Rio de Janeiro, Brasil 380 --- --- 4,93 · 1 cama de casal, https://www.airbnb.com.br/rooms/47052186?adults=2&check_in=2023-01-20&check_out=2023-01-23&source_impression_id=p3_1673760208_ixJhC48vdVDA8M7g\n",
      "Casinha Colorida na Floresta com Cozinha Externa. Guapimirim, Rio de Janeiro, Brasil 168 612 108 5,0 · 1 cama de casal, 1 sofá-cama, 1 colchão extra, https://www.airbnb.com.br/rooms/53571144?adults=2&check_in=2023-01-20&check_out=2023-01-23&source_impression_id=p3_1673760212_vQMe1UqByIQbfMyn\n",
      "Casa Guapi...com piscina e mobilia- Guapimirim,RJ. Guapimirim, Rio de Janeiro, Brasil 220 893 233 4,57 · 1 cama queen,2 beliches,1 sofá-cama, https://www.airbnb.com.br/rooms/648531580736674038?adults=2&check_in=2023-01-20&check_out=2023-01-23&source_impression_id=p3_1673760215_7r2wSW0iOnopj0rL\n",
      "Casa em condomínio Itaborai Itaboraí, Rio de Janeiro, Brasil 170 641 131 ---  https://www.airbnb.com.br/rooms/784760568842358385?adults=2&check_in=2023-01-20&check_out=2023-01-23&source_impression_id=p3_1673760219_6ufJWqIJjgHfIrM%2B\n",
      "Chácara Alegria - Um pedaço do paraíso em Itaboraí Itaboraí, Rio de Janeiro, Brasil 700 --- --- --- 3 beliches,3 beliches,1 cama de casal, 1 cama de solteiro, https://www.airbnb.com.br/rooms/778966858363426865?adults=2&check_in=2023-01-20&check_out=2023-01-23&source_impression_id=p3_1673760222_fPNC7CJKgg7ZELVH\n",
      "Spirala 2 - Conforto e Natureza em Itacoatiara Itaipu, Rio de Janeiro, Brasil 198 795 201 4,94 · 1 cama de casal, 1 sofá-cama, https://www.airbnb.com.br/rooms/46619137?adults=2&check_in=2023-01-20&check_out=2023-01-23&source_impression_id=p3_1673760226_%2B95PzwOMtTumXMqb\n",
      "Suíte tripla - PS Hotel Itaboraí Manilha, Rio de Janeiro, Brasil 110 330 0 --- 3 camas de solteiro, https://www.airbnb.com.br/rooms/50994864?adults=2&check_in=2023-01-20&check_out=2023-01-23&source_impression_id=p3_1673760229_VrY%2BJj1KgoumcDB0\n",
      "Na Mata Atlântica, a 35 km do centro do Rio! Muriqui, Rio de Janeiro, Brasil 196 742 154 5,0 · 1 cama de casal, https://www.airbnb.com.br/rooms/44050296?adults=2&check_in=2023-01-20&check_out=2023-01-23&source_impression_id=p3_1673760232_IxwgU3%2FC18f6ZeU%2B\n",
      "Apartamento mobiliado em Alcântara Amendoeira, Rio de Janeiro, Brasil 110 435 105 4,83 · 1 sofá-cama, 1 sofá, 1 colchão extra,1 colchão extra,2 sofás, https://www.airbnb.com.br/rooms/45517787?adults=2&check_in=2023-01-20&check_out=2023-01-23&source_impression_id=p3_1673760236_urJ2Xy401zodtJaR\n",
      "Loft aconchegante e em ótima localização Maricá, Rio de Janeiro, Brasil 130 447 57 4,69 · 1 cama de casal, 2 camas de solteiro, https://www.airbnb.com.br/rooms/53864037?adults=2&check_in=2023-01-20&check_out=2023-01-23&source_impression_id=p3_1673760239_vbr28d%2FMvmYbk3r7\n",
      "Lindo Sítio perto da praia com 3 suítes Tingui, Rio de Janeiro, Brasil 450 --- --- 5,0 · 1 cama de casal,1 cama de casal, 1 colchão extra,1 cama de casal,1 sofá-cama, https://www.airbnb.com.br/rooms/52170182?adults=2&check_in=2023-01-20&check_out=2023-01-23&source_impression_id=p3_1673760242_5BfxMlO2FdANW3RE\n",
      "Casa Loft em Itaipuaçu c churrasqueira, ar e wi fi Itaipuaçu, Rio de Janeiro, Brasil 207 769 148 4,97 · 1 cama de casal, 1 sofá-cama, https://www.airbnb.com.br/rooms/38103416?adults=2&check_in=2023-01-20&check_out=2023-01-23&source_impression_id=p3_1673760246_G17txLmgspcACZr1\n",
      "------------------- 2 ------------------\n",
      "Loft Boa Vista “2” Itaipu, Rio de Janeiro, Brasil 210 722 92 5,0 · 1 cama de casal,1 cama de casal, 1 cama de solteiro, https://www.airbnb.com.br/rooms/44593862?adults=2&check_in=2023-01-20&check_out=2023-01-23&source_impression_id=p3_1673760253_PbeJ%2F4QruH9b7aOb\n",
      "Casa de acampamento - Sítio Paraíso de Itaboraí Vila Rica, Rio de Janeiro, Brasil 399 --- --- --- ,,, https://www.airbnb.com.br/rooms/50910421?adults=2&check_in=2023-01-20&check_out=2023-01-23&source_impression_id=p3_1673760256_d3Pi7Yuk8dc%2BLOQ%2B\n",
      "Justo preço diária casal centro Niterói! Centro, Rio de Janeiro, Brasil 65 223 28 4,25 · 1 cama de casal, https://www.airbnb.com.br/rooms/47511880?adults=2&check_in=2023-01-20&check_out=2023-01-23&source_impression_id=p3_1673760259_6mDZ7tdT%2FPwzIuiR\n",
      "Casa com piscina, natureza e paz. Guapimirim, Rio de Janeiro, Brasil 190 790 220 4,67 ·  https://www.airbnb.com.br/rooms/730214651015480882?adults=2&check_in=2023-01-20&check_out=2023-01-23&source_impression_id=p3_1673760263_PZgJIyDjyYTPf2EM\n",
      "Loft 2 na floresta Guapimirim, Rio de Janeiro, Brasil 300 --- --- 4,83 · 1 cama de casal, 1 sofá-cama, https://www.airbnb.com.br/rooms/47040418?adults=2&check_in=2023-01-20&check_out=2023-01-23&source_impression_id=p3_1673760266_51421MdaQ7XjiMu9\n",
      "Kitnet aconchegante e bem localizada em Maricá, RJ Maricá, Rio de Janeiro, Brasil 110 378 48 4,53 ·  https://www.airbnb.com.br/rooms/631749185468664224?adults=2&check_in=2023-01-20&check_out=2023-01-23&source_impression_id=p3_1673760269_NnORKg%2B01WxmI4hi\n",
      "Cobertura loft com churrasqueira itaipu. Wi-Fi200 Engenho do Mato, Rio de Janeiro, Brasil 255 --- --- 5,0 ·  https://www.airbnb.com.br/rooms/607031853498286719?adults=2&check_in=2023-01-20&check_out=2023-01-23&source_impression_id=p3_1673760273_92bZmUP5E1F%2BaSOW\n",
      "Descansar Jardim Atlântico Central, Rio de Janeiro, Brasil 125 --- --- 4,87 · ,, https://www.airbnb.com.br/rooms/38261423?adults=2&check_in=2023-01-20&check_out=2023-01-23&source_impression_id=p3_1673760276_cpCpGrx73YWEsOAd\n",
      "Chale 02 Praia de Itaipuaçu Região dos Lagos Maricá, Rio de Janeiro, Brasil 150 573 123 4,0 · 1 cama de solteiro, https://www.airbnb.com.br/rooms/42315660?adults=2&check_in=2023-01-20&check_out=2023-01-23&source_impression_id=p3_1673760280_BldPc8P5lNxxsxIr\n",
      "Suíte de hóspede QG do Voo Livre com área externa compartilhada Serra de Mato Grosso, Rio de Janeiro, Brasil 110 378 48 4,75 · 1 cama de casal, 1 cama de solteiro, https://www.airbnb.com.br/rooms/52631577?adults=2&check_in=2023-01-20&check_out=2023-01-23&source_impression_id=p3_1673760283_Mi2W6HfgoIIpfgiK\n",
      "Incrível casa c piscina em Ponta Negra, Maricá- RJ Maricá, Rio de Janeiro, Brasil 330 989 -1 --- 1 cama de casal,1 cama de casal, 1 cama de solteiro, 3 beliches, 1 colchão extra, https://www.airbnb.com.br/rooms/749850365559586885?adults=2&check_in=2023-01-20&check_out=2023-01-23&source_impression_id=p3_1673760287_DrFYA2hzkTP0C95L\n",
      "Kitnet Aconchegante e Bem Localizada em Maricá Maricá, Rio de Janeiro, Brasil 110 378 48 --- 1 cama de casal, https://www.airbnb.com.br/rooms/790516965857895829?adults=2&check_in=2023-01-20&check_out=2023-01-23&source_impression_id=p3_1673760290_eB0Rrv55pXrUuPBM\n",
      "Carnaval na Montanha piscina e churrasqueira no RJ Bosque Fundo, Rio de Janeiro, Brasil 160 836 356 4,67 · 1 cama de casal, 2 camas de solteiro,4 camas de solteiro,1 cama de casal, 1 cama de solteiro, 1 beliche, https://www.airbnb.com.br/rooms/53181348?adults=2&check_in=2023-01-20&check_out=2023-01-23&source_impression_id=p3_1673760294_Vl6AP6NKhycMX0ar\n"
     ]
    }
   ],
   "source": [
    "if(not exists('data/')):\n",
    "    os.makdir('data/')\n",
    "\n",
    "\n",
    "with open('data/airbnb.csv', 'w', encoding=\"utf-8-sig\",newline='') as airbnb_file:\n",
    "    campos = [\n",
    "        'nome', \n",
    "        'local',\n",
    "        'precoNoite',\n",
    "        'total',\n",
    "        'taxas',\n",
    "        'avaliacoes',\n",
    "        'ondeDormir', \n",
    "        'url'\n",
    "    ]\n",
    "\n",
    "    csv_writer = csv.DictWriter(airbnb_file, fieldnames=campos, delimiter=';', quoting=csv.QUOTE_ALL)\n",
    "    csv_writer.writeheader()\n",
    "    \n",
    "    tempo = 3\n",
    "\n",
    "    for i in range(qtdPag):\n",
    "        print(\"-------------------\",i+1,'-------------------\\b')\n",
    "        acomodacoes = driver.find_elements(By.CSS_SELECTOR,'.lwy0wad')\n",
    "        for acomodacao in acomodacoes:\n",
    "            acomodacao.click()\n",
    "            sleep(tempo)\n",
    "            driver.switch_to.window(driver.window_handles[1])\n",
    "            \n",
    "            try:\n",
    "                nome = driver.find_element(By.CSS_SELECTOR,'._1n81at5')\n",
    "                nome = nome.text\n",
    "            except:\n",
    "                nome = \"---\"\n",
    "                \n",
    "            try:\n",
    "                local = driver.find_element(By.CSS_SELECTOR,'._9xiloll')\n",
    "                local = local.text\n",
    "            except:\n",
    "                local = \"---\"\n",
    "\n",
    "            try:\n",
    "#                 precoNoite = driver.find_element(By.XPATH,'//*[@id=\"site-content\"]/div/div[1]/div[3]/div/div[2]/div/div/div[1]/div/div/div/div/div/div/div[1]/div[1]/div[1]/div/span/div/span[1]')\n",
    "                precoNoite = driver.find_element(By.XPATH,'//*[@id=\"site-content\"]/div/div[1]/div[3]/div/div[2]/div/div/div[1]/div/div/div/div/div/div/div[1]/div[1]/div/div/span/span').text.split()[0][2:]\n",
    "                precoNoite = int(precoNoite)\n",
    "            except:\n",
    "                precoNoite = \"---\"\n",
    "                \n",
    "            try:\n",
    "                total = driver.find_element(By.XPATH,'//*[@id=\"site-content\"]/div/div[1]/div[3]/div/div[2]/div/div/div[1]/div/div/div/div/div/div/div[2]/div/section/div[2]/div/span[2]')\n",
    "                total = int(total.text[2:])\n",
    "            except:\n",
    "                total = '---'\n",
    "            \n",
    "            if(total != \"---\" and precoNoite != \"---\"):\n",
    "                taxas = total - precoNoite*3\n",
    "            else:\n",
    "                taxas = '---'\n",
    "            \n",
    "            try:\n",
    "                avaliacoes = driver.find_element(By.XPATH,'//*[@id=\"site-content\"]/div/div[1]/div[3]/div/div[2]/div/div/div[1]/div/div/div/div/div/div/div[1]/div[1]/div[2]/span/span[2]')\n",
    "                avaliacoes = avaliacoes.text\n",
    "            except:\n",
    "                avaliacoes = \"---\"\n",
    "\n",
    "            try:\n",
    "                ondeDormir = driver.find_elements(By.CSS_SELECTOR,'._1a5glfg')\n",
    "                ondeDormir = \"\".join(list(map(lambda x: x.text+',',ondeDormir)))\n",
    "                if(ondeDormir == \"\"):\n",
    "                    ondeDormir = driver.find_elements(By.CSS_SELECTOR,'._4zdnhq')\n",
    "                    ondeDormir = \"\".join(list(map(lambda x: x.text+',',ondeDormir)))\n",
    "\n",
    "            except:\n",
    "                ondeDormir = \"---\"\n",
    "\n",
    "            url = driver.current_url\n",
    "\n",
    "            print(nome,local,precoNoite, total, taxas, avaliacoes,ondeDormir,url)\n",
    "            \n",
    "            csv_writer.writerow(dict(zip(campos, [nome, local, precoNoite, total, taxas, avaliacoes, ondeDormir, url])))\n",
    "\n",
    "\n",
    "            driver.close()\n",
    "            driver.switch_to.window(driver.window_handles[0])\n",
    "            \n",
    "            \n",
    "        if(i != (qtdPag-1)):\n",
    "            proximo = driver.find_element(By.XPATH,'//a[@aria-label=\"Próximo\"]')\n",
    "            proximo.click()\n",
    "            sleep(tempo)\n",
    "        else:\n",
    "            print(\"Fim!\")"
   ]
  },
  {
   "cell_type": "code",
   "execution_count": null,
   "id": "a34399c5",
   "metadata": {},
   "outputs": [],
   "source": [
    "\n",
    "local.text"
   ]
  },
  {
   "cell_type": "code",
   "execution_count": null,
   "id": "f6d7ae84",
   "metadata": {},
   "outputs": [],
   "source": [
    "driver.switch_to.window(driver.window_handles[1])\n",
    "driver.title"
   ]
  }
 ],
 "metadata": {
  "kernelspec": {
   "display_name": "Python 3 (ipykernel)",
   "language": "python",
   "name": "python3"
  },
  "language_info": {
   "codemirror_mode": {
    "name": "ipython",
    "version": 3
   },
   "file_extension": ".py",
   "mimetype": "text/x-python",
   "name": "python",
   "nbconvert_exporter": "python",
   "pygments_lexer": "ipython3",
   "version": "3.8.11"
  }
 },
 "nbformat": 4,
 "nbformat_minor": 5
}
