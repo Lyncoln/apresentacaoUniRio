{
 "cells": [
  {
   "cell_type": "code",
   "execution_count": null,
   "id": "1b42231c",
   "metadata": {},
   "outputs": [],
   "source": [
    "from selenium import webdriver\n",
    "from selenium.webdriver.common.by import By\n",
    "from selenium.webdriver.common.keys import Keys\n",
    "from time import sleep\n",
    "import csv\n",
    "from os.path import exists\n",
    "from os import mkdir\n",
    "from webdriver_manager.chrome import ChromeDriverManager\n",
    "from selenium.webdriver.chrome.service import Service as ChromeService"
   ]
  },
  {
   "cell_type": "code",
   "execution_count": null,
   "id": "74bc8519",
   "metadata": {},
   "outputs": [],
   "source": [
    "chrome_options = webdriver.ChromeOptions()\n",
    "chrome_options.add_argument('--start-maximized')\n",
    "driver = webdriver.Chrome(service = ChromeService(ChromeDriverManager().install()),options=chrome_options)"
   ]
  },
  {
   "cell_type": "code",
   "execution_count": null,
   "id": "bda63e18",
   "metadata": {},
   "outputs": [],
   "source": [
    "driver.get(\"https://airbnb.com.br/\")\n",
    "sleep(3)\n",
    "try:\n",
    "    anuncio = driver.find_element(By.XPATH,'//*[@aria-label=\"Fechar\"]')\n",
    "    anuncio.click()\n",
    "except:\n",
    "    pass"
   ]
  },
  {
   "cell_type": "code",
   "execution_count": null,
   "id": "c3418b9e",
   "metadata": {},
   "outputs": [],
   "source": [
    "caixa = driver.find_element(By.XPATH,'//div//*[contains(text(),\"Qualquer lugar\")]')\n",
    "caixa.click()\n",
    "sleep(2)"
   ]
  },
  {
   "cell_type": "code",
   "execution_count": null,
   "id": "7cf7e9f2",
   "metadata": {},
   "outputs": [],
   "source": [
    "busca = driver.find_element(By.CSS_SELECTOR,'.ivycze5')\n",
    "busca.send_keys('Itaboraí',Keys.RETURN)\n",
    "sleep(2)\n",
    "\n",
    "# busca = driver.find_element(By.XPATH,'//*[@id=\"/homes-1-input\"]')\n"
   ]
  },
  {
   "cell_type": "code",
   "execution_count": null,
   "id": "a63690ad",
   "metadata": {},
   "outputs": [],
   "source": [
    "checkin = driver.find_element(By.XPATH,'//h2[contains(text(),\"janeiro\")]/ancestor::div[@class=\"_ytfarf\"]//*[text()=\"20\"]')\n",
    "checkin.click()\n",
    "sleep(2)\n",
    "checkout = driver.find_element(By.XPATH,'//h2[contains(text(),\"janeiro\")]/ancestor::div[@class=\"_ytfarf\"]//*[text()=\"23\"]')\n",
    "checkout.click()\n",
    "sleep(2)\n",
    "hospedes = driver.find_element(By.XPATH,'.//*[@id=\"search-tabpanel\"]/div/div[5]/div[1]/div[1]/div/div[1]')\n",
    "hospedes.click()\n",
    "sleep(2)\n",
    "adultos = driver.find_element(By.XPATH,'//*[@id=\"stepper-adults\"]/button[2]')\n",
    "adultos.click()\n",
    "adultos.click()\n",
    "sleep(2)\n",
    "buscar = driver.find_element(By.CSS_SELECTOR,'._kaq6tx')\n",
    "buscar.click()\n",
    "sleep(5)"
   ]
  },
  {
   "cell_type": "code",
   "execution_count": null,
   "id": "580e4cca",
   "metadata": {},
   "outputs": [],
   "source": [
    "qtdPag = driver.find_element(By.XPATH,'//*[@id=\"site-content\"]/div[2]/div[3]/div/div/nav/div/a[4]')\n",
    "qtdPag = int(qtdPag.text)"
   ]
  },
  {
   "cell_type": "code",
   "execution_count": null,
   "id": "664dfac2",
   "metadata": {
    "scrolled": true
   },
   "outputs": [],
   "source": [
    "if(not exists('data/')):\n",
    "    os.makdir('data/')\n",
    "\n",
    "\n",
    "with open('data/airbnb.csv', 'w', encoding=\"utf-8-sig\",newline='') as airbnb_file:\n",
    "    campos = [\n",
    "        'nome', \n",
    "        'local',\n",
    "        'precoNoite',\n",
    "        'total',\n",
    "        'taxas',\n",
    "        'avaliacoes',\n",
    "        'ondeDormir', \n",
    "        'url'\n",
    "    ]\n",
    "\n",
    "    csv_writer = csv.DictWriter(airbnb_file, fieldnames=campos, delimiter=';', quoting=csv.QUOTE_ALL)\n",
    "    csv_writer.writeheader()\n",
    "    \n",
    "    tempo = 3\n",
    "\n",
    "    for i in range(qtdPag):\n",
    "        print(\"-------------------\",i+1,'-------------------\\b')\n",
    "        acomodacoes = driver.find_elements(By.CSS_SELECTOR,'.lwy0wad')\n",
    "        for acomodacao in acomodacoes:\n",
    "            acomodacao.click()\n",
    "            sleep(tempo)\n",
    "            driver.switch_to.window(driver.window_handles[1])\n",
    "            \n",
    "            try:\n",
    "                nome = driver.find_element(By.CSS_SELECTOR,'._1n81at5')\n",
    "                nome = nome.text\n",
    "            except:\n",
    "                nome = \"---\"\n",
    "                \n",
    "            try:\n",
    "                local = driver.find_element(By.CSS_SELECTOR,'._9xiloll')\n",
    "                local = local.text\n",
    "            except:\n",
    "                local = \"---\"\n",
    "\n",
    "            try:\n",
    "#                 precoNoite = driver.find_element(By.XPATH,'//*[@id=\"site-content\"]/div/div[1]/div[3]/div/div[2]/div/div/div[1]/div/div/div/div/div/div/div[1]/div[1]/div[1]/div/span/div/span[1]')\n",
    "                precoNoite = driver.find_element(By.XPATH,'//*[@id=\"site-content\"]/div/div[1]/div[3]/div/div[2]/div/div/div[1]/div/div/div/div/div/div/div[1]/div[1]/div/div/span/span').text.split()[0][2:]\n",
    "                precoNoite = int(precoNoite)\n",
    "            except:\n",
    "                precoNoite = \"---\"\n",
    "                \n",
    "            try:\n",
    "                total = driver.find_element(By.XPATH,'//*[@id=\"site-content\"]/div/div[1]/div[3]/div/div[2]/div/div/div[1]/div/div/div/div/div/div/div[2]/div/section/div[2]/div/span[2]')\n",
    "                total = int(total.text[2:])\n",
    "            except:\n",
    "                total = '---'\n",
    "            \n",
    "            if(total != \"---\" and precoNoite != \"---\"):\n",
    "                taxas = total - precoNoite*3\n",
    "            else:\n",
    "                taxas = '---'\n",
    "            \n",
    "            try:\n",
    "                avaliacoes = driver.find_element(By.XPATH,'//*[@id=\"site-content\"]/div/div[1]/div[3]/div/div[2]/div/div/div[1]/div/div/div/div/div/div/div[1]/div[1]/div[2]/span/span[2]')\n",
    "                avaliacoes = avaliacoes.text\n",
    "            except:\n",
    "                avaliacoes = \"---\"\n",
    "\n",
    "            try:\n",
    "                ondeDormir = driver.find_elements(By.CSS_SELECTOR,'._1a5glfg')\n",
    "                ondeDormir = \"\".join(list(map(lambda x: x.text+',',ondeDormir)))\n",
    "                if(ondeDormir == \"\"):\n",
    "                    ondeDormir = driver.find_elements(By.CSS_SELECTOR,'._4zdnhq')\n",
    "                    ondeDormir = \"\".join(list(map(lambda x: x.text+',',ondeDormir)))\n",
    "\n",
    "            except:\n",
    "                ondeDormir = \"---\"\n",
    "\n",
    "            url = driver.current_url\n",
    "\n",
    "            print(nome,local,precoNoite, total, taxas, avaliacoes,ondeDormir,url)\n",
    "            \n",
    "            csv_writer.writerow(dict(zip(campos, [nome, local, precoNoite, total, taxas, avaliacoes, ondeDormir, url])))\n",
    "\n",
    "\n",
    "            driver.close()\n",
    "            driver.switch_to.window(driver.window_handles[0])\n",
    "            \n",
    "            \n",
    "        if(i != (qtdPag-1)):\n",
    "            proximo = driver.find_element(By.XPATH,'//a[@aria-label=\"Próximo\"]')\n",
    "            proximo.click()\n",
    "            sleep(tempo)\n",
    "        else:\n",
    "            print(\"Fim!\")"
   ]
  }
 ],
 "metadata": {
  "kernelspec": {
   "display_name": "Python 3 (ipykernel)",
   "language": "python",
   "name": "python3"
  },
  "language_info": {
   "codemirror_mode": {
    "name": "ipython",
    "version": 3
   },
   "file_extension": ".py",
   "mimetype": "text/x-python",
   "name": "python",
   "nbconvert_exporter": "python",
   "pygments_lexer": "ipython3",
   "version": "3.8.11"
  }
 },
 "nbformat": 4,
 "nbformat_minor": 5
}
