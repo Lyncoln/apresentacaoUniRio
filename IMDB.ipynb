{
 "cells": [
  {
   "cell_type": "code",
   "execution_count": null,
   "id": "3cacfb4c",
   "metadata": {},
   "outputs": [],
   "source": [
    "from selenium import webdriver\n",
    "from selenium.webdriver.common.by import By\n",
    "from selenium.webdriver.common.keys import Keys\n",
    "from selenium.webdriver.chrome.service import Service as ChromeService\n",
    "from webdriver_manager.chrome import ChromeDriverManager\n",
    "from time import sleep"
   ]
  },
  {
   "cell_type": "code",
   "execution_count": null,
   "id": "b2366fbc",
   "metadata": {},
   "outputs": [],
   "source": [
    "chrome_options = webdriver.ChromeOptions()\n",
    "chrome_options.add_argument('--start-maximized')\n",
    "driver = webdriver.Chrome(service = ChromeService(ChromeDriverManager().install()),options=chrome_options)\n",
    "driver.get(\"https://www.imdb.com/\")\n",
    "sleep(3)"
   ]
  },
  {
   "cell_type": "code",
   "execution_count": null,
   "id": "8ba6b9ed",
   "metadata": {},
   "outputs": [],
   "source": [
    "series = ['WANDINHA','A CASA DO DRAGÃO','O SENHOR DOS ANÉIS: OS ANÉIS DE PODER',\n",
    "          'THE BOYS','The Witcher: A Origem']"
   ]
  },
  {
   "cell_type": "code",
   "execution_count": null,
   "id": "cfe7a8c2",
   "metadata": {},
   "outputs": [],
   "source": [
    "for serie in series:\n",
    "    pesquisa = driver.find_element(By.XPATH,'//input[@id=\"suggestion-search\"]')\n",
    "    pesquisa.send_keys(serie,Keys.RETURN)\n",
    "    sleep(2)\n",
    "    resultado1 = driver.find_element(By.XPATH,'//*[@id=\"__next\"]/main/div[2]/div[3]/section/div/div[1]/section[2]/div[2]/ul/li[1]/div[2]/div[1]/a')\n",
    "    resultado1.click()\n",
    "    sleep(2)\n",
    "    \n",
    "    nota = driver.find_element(By.CSS_SELECTOR,'.sc-7ab21ed2-1')\n",
    "    nota = nota.text\n",
    "    avaliacoes = driver.find_element(By.CSS_SELECTOR,'.sc-7ab21ed2-3')\n",
    "    avaliacoes = avaliacoes.text\n",
    "    popularidade = driver.find_element(By.CSS_SELECTOR,'.sc-edc76a2-1')\n",
    "    popularidade = popularidade.text\n",
    "    \n",
    "    atoresPrincipais = driver.find_elements(By.XPATH,'//a[@data-testid=\"title-cast-item__actor\"]')\n",
    "    atoresPrincipais = ''.join(list(map(lambda x: x.text+',',atoresPrincipais)))\n",
    "    atoresPrincipais\n",
    "    \n",
    "    criadores = driver.find_elements(By.XPATH,'//*[@id=\"__next\"]/main/div/section[1]/section/div[3]/section/section/div[3]/div[2]/div[1]/div[3]/ul/li[1]/div/ul/li')\n",
    "    criadores = ''.join(list(map(lambda x: x.text+',',criadores)))\n",
    "    criadores\n",
    "    \n",
    "        \n",
    "    print(serie, nota, avaliacoes, popularidade, atoresPrincipais, criadores)\n",
    "    driver.back()\n",
    "    driver.back()\n",
    "    "
   ]
  },
  {
   "cell_type": "code",
   "execution_count": null,
   "id": "08ea751d",
   "metadata": {},
   "outputs": [],
   "source": []
  }
 ],
 "metadata": {
  "kernelspec": {
   "display_name": "Python 3 (ipykernel)",
   "language": "python",
   "name": "python3"
  },
  "language_info": {
   "codemirror_mode": {
    "name": "ipython",
    "version": 3
   },
   "file_extension": ".py",
   "mimetype": "text/x-python",
   "name": "python",
   "nbconvert_exporter": "python",
   "pygments_lexer": "ipython3",
   "version": "3.8.11"
  }
 },
 "nbformat": 4,
 "nbformat_minor": 5
}
