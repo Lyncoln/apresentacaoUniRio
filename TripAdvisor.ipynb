{
 "cells": [
  {
   "cell_type": "code",
   "execution_count": 1,
   "id": "1111bf11",
   "metadata": {},
   "outputs": [],
   "source": [
    "from selenium import webdriver\n",
    "from selenium.webdriver.common.by import By\n",
    "from selenium.webdriver.common.keys import Keys\n",
    "from selenium.webdriver.support.ui import WebDriverWait\n",
    "from time import sleep\n",
    "import csv\n",
    "from os.path import exists\n",
    "from os import mkdir"
   ]
  },
  {
   "cell_type": "code",
   "execution_count": 2,
   "id": "f24a8cb7",
   "metadata": {},
   "outputs": [],
   "source": [
    "chrome_options = webdriver.ChromeOptions()\n",
    "chrome_options.add_argument('--start-maximized')\n",
    "driver = webdriver.Chrome(options=chrome_options)\n",
    "driver.get(\"https://www.tripadvisor.com.br/\")\n",
    "sleep(3)"
   ]
  },
  {
   "cell_type": "code",
   "execution_count": 3,
   "id": "935c6280",
   "metadata": {},
   "outputs": [],
   "source": [
    "busca = driver.find_element(By.XPATH,'//*[@id=\"lithium-root\"]/main/div[3]/div/div/div/form/input[1]')\n",
    "busca.send_keys('itaboraí')\n",
    "busca.send_keys(Keys.RETURN)"
   ]
  },
  {
   "cell_type": "code",
   "execution_count": 5,
   "id": "43deb119",
   "metadata": {},
   "outputs": [],
   "source": [
    "buscaRestaurante = driver.find_element(By.XPATH,'//*[@id=\"search-filters\"]/ul/li[4]/a')\n",
    "buscaRestaurante.click()"
   ]
  },
  {
   "cell_type": "code",
   "execution_count": 6,
   "id": "27dac0bf",
   "metadata": {},
   "outputs": [],
   "source": [
    "qtdPag = driver.find_elements(By.CSS_SELECTOR,'.pageNum')[-1]\n",
    "qtdPag = int(qtdPag.text)"
   ]
  },
  {
   "cell_type": "code",
   "execution_count": null,
   "id": "96b95125",
   "metadata": {},
   "outputs": [],
   "source": [
    "driver.switch_to.window(driver.window_handles[0])"
   ]
  },
  {
   "cell_type": "code",
   "execution_count": 7,
   "id": "5b7da4d5",
   "metadata": {},
   "outputs": [
    {
     "name": "stdout",
     "output_type": "stream",
     "text": [
      "DR Pizza Itaborai 4,5  Avenida Carlos Lacerda 1025, Itaboraí, Estado do Rio de Janeiro 24801-000 Brasil https://www.tripadvisor.com.br/Restaurant_Review-g2342816-d6004249-Reviews-DR_Pizza_Itaborai-Itaborai_State_of_Rio_de_Janeiro.html +55 21 3637-1231 (55)\n",
      "Dimattoni Restaurate e Pizzaria 4,5  Rodovia BR 101 - KM293 Bairro São Joaquim, Itaboraí, Estado do Rio de Janeiro 24813-081 Brasil https://www.tripadvisor.com.br/Restaurant_Review-g2342816-d6802842-Reviews-Dimattoni_Restaurante_e_Pizzaria-Itaborai_State_of_Rio_de_Janeiro.html +55 21 99808-1423 (130)\n",
      "Kiosque do Alemão 3,5  Rodovia BR-101, KM 284, Itaboraí, Estado do Rio de Janeiro 28820-000 Brasil https://www.tripadvisor.com.br/Restaurant_Review-g2342816-d5718923-Reviews-Kiosque_do_Alemao-Itaborai_State_of_Rio_de_Janeiro.html +55 21 2645-8016 (211)\n",
      "Armazém Pub Café 4,0  Avenida Vinte E Dois de Maio 6363, Itaboraí, Estado do Rio de Janeiro 24800-258 Brasil https://www.tripadvisor.com.br/Restaurant_Review-g2342816-d12398637-Reviews-Armazem_Pub_Cafe-Itaborai_State_of_Rio_de_Janeiro.html 2126398372 (40)\n"
     ]
    },
    {
     "ename": "KeyboardInterrupt",
     "evalue": "",
     "output_type": "error",
     "traceback": [
      "\u001b[1;31m---------------------------------------------------------------------------\u001b[0m",
      "\u001b[1;31mKeyboardInterrupt\u001b[0m                         Traceback (most recent call last)",
      "\u001b[1;32m~\\AppData\\Local\\Temp/ipykernel_4336/857284420.py\u001b[0m in \u001b[0;36m<module>\u001b[1;34m\u001b[0m\n\u001b[0;32m     21\u001b[0m         \u001b[1;32mfor\u001b[0m \u001b[0mrestaurante\u001b[0m \u001b[1;32min\u001b[0m \u001b[0mrestaurantes\u001b[0m\u001b[1;33m:\u001b[0m\u001b[1;33m\u001b[0m\u001b[1;33m\u001b[0m\u001b[0m\n\u001b[0;32m     22\u001b[0m             \u001b[0mrestaurante\u001b[0m\u001b[1;33m.\u001b[0m\u001b[0mclick\u001b[0m\u001b[1;33m(\u001b[0m\u001b[1;33m)\u001b[0m\u001b[1;33m\u001b[0m\u001b[1;33m\u001b[0m\u001b[0m\n\u001b[1;32m---> 23\u001b[1;33m             \u001b[0msleep\u001b[0m\u001b[1;33m(\u001b[0m\u001b[1;36m3\u001b[0m\u001b[1;33m)\u001b[0m\u001b[1;33m\u001b[0m\u001b[1;33m\u001b[0m\u001b[0m\n\u001b[0m\u001b[0;32m     24\u001b[0m             \u001b[0mdriver\u001b[0m\u001b[1;33m.\u001b[0m\u001b[0mswitch_to\u001b[0m\u001b[1;33m.\u001b[0m\u001b[0mwindow\u001b[0m\u001b[1;33m(\u001b[0m\u001b[0mdriver\u001b[0m\u001b[1;33m.\u001b[0m\u001b[0mwindow_handles\u001b[0m\u001b[1;33m[\u001b[0m\u001b[1;36m1\u001b[0m\u001b[1;33m]\u001b[0m\u001b[1;33m)\u001b[0m\u001b[1;33m\u001b[0m\u001b[1;33m\u001b[0m\u001b[0m\n\u001b[0;32m     25\u001b[0m \u001b[1;33m\u001b[0m\u001b[0m\n",
      "\u001b[1;31mKeyboardInterrupt\u001b[0m: "
     ]
    }
   ],
   "source": [
    "if(not exists('data/')):\n",
    "    os.makdir('data/')\n",
    "with open('data/restaurantes.csv', 'w', encoding=\"utf-8-sig\") as restaurantes_files:\n",
    "    field_names = [\n",
    "        'nome', \n",
    "        'nota',\n",
    "        'endereco',\n",
    "        'celular', \n",
    "        'avaliacoes',\n",
    "        'cozinhas',\n",
    "        'refeicoes',\n",
    "        'vantagens',\n",
    "        'url' \n",
    "    ]\n",
    "\n",
    "    csv_writer = csv.DictWriter(restaurantes_files, fieldnames=field_names, delimiter=';', quoting=csv.QUOTE_ALL)\n",
    "    csv_writer.writeheader()\n",
    "\n",
    "    for i in range(qtdPag-1):\n",
    "        restaurantes = driver.find_elements(By.CSS_SELECTOR,'.result-title')\n",
    "        for restaurante in restaurantes:\n",
    "            restaurante.click()\n",
    "            sleep(3)\n",
    "            driver.switch_to.window(driver.window_handles[1])\n",
    "            \n",
    "            try:\n",
    "                nome = driver.find_element(By.XPATH,'//*[@data-test-target=\"top-info-header\"]').text\n",
    "            except:\n",
    "                nome = 99\n",
    "            try:\n",
    "                nota = driver.find_element(By.CSS_SELECTOR,'.ZDEqb').text \n",
    "            except:\n",
    "                nota = 99\n",
    "            try:\n",
    "                endereco = driver.find_element(By.CSS_SELECTOR,'.kDZhm').text\n",
    "            except:\n",
    "                endereco = 99\n",
    "            try:\n",
    "                celular = driver.find_element(By.CSS_SELECTOR,'.AYHFM .BMQDV').text\n",
    "            except:\n",
    "                celular = 99\n",
    "            try:\n",
    "                avaliacoes = driver.find_element(By.XPATH,'//*[@id=\"REVIEWS\"]/div[1]/div/div[1]/span').text\n",
    "            except:\n",
    "                avaliacoes = 99\n",
    "            try:\n",
    "                cozinhas = driver.find_element(By.XPATH,'//*[contains(text(),\"COZINHAS\")]/parent::div/div[@class=\"SrqKb\"]').text\n",
    "            except:\n",
    "                cozinhas = 99\n",
    "            try:\n",
    "                refeicoes = driver.find_element(By.XPATH,'//*[contains(text(),\"Refeições\")]/parent::div/div[@class=\"SrqKb\"]').text\n",
    "            except:\n",
    "                refeicoes = 99\n",
    "            try:\n",
    "                vantagens = driver.find_element(By.XPATH,'//*[contains(text(),\"VANTAGENS\")]/parent::div/div[@class=\"SrqKb\"]').text\n",
    "            except:\n",
    "                vantagens = 99\n",
    "                \n",
    "            url = driver.current_url\n",
    "\n",
    "            print(nome, nota, endereco, url, celular, avaliacoes)\n",
    "            csv_writer.writerow(dict(zip(field_names, [nome, nota, endereco, celular, avaliacoes, cozinhas, refeicoes, vantagens, url])))\n",
    "\n",
    "            driver.close()\n",
    "            driver.switch_to.window(driver.window_handles[0])\n",
    "            \n",
    "        \n",
    "        prox = driver.find_element(By.CSS_SELECTOR,'.ui_pagination .next')\n",
    "        prox.click()\n",
    "        print('------------------------', i+2, '----------------------------------\\b')\n",
    "        sleep(5)"
   ]
  }
 ],
 "metadata": {
  "kernelspec": {
   "display_name": "Python 3 (ipykernel)",
   "language": "python",
   "name": "python3"
  },
  "language_info": {
   "codemirror_mode": {
    "name": "ipython",
    "version": 3
   },
   "file_extension": ".py",
   "mimetype": "text/x-python",
   "name": "python",
   "nbconvert_exporter": "python",
   "pygments_lexer": "ipython3",
   "version": "3.8.11"
  }
 },
 "nbformat": 4,
 "nbformat_minor": 5
}
