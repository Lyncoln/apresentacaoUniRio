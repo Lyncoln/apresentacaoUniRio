{
 "cells": [
  {
   "cell_type": "code",
   "execution_count": 5,
   "id": "1111bf11",
   "metadata": {},
   "outputs": [],
   "source": [
    "from selenium import webdriver\n",
    "from selenium.webdriver.common.by import By\n",
    "from selenium.webdriver.common.keys import Keys\n",
    "from selenium.webdriver.support.ui import WebDriverWait\n",
    "from time import sleep"
   ]
  },
  {
   "cell_type": "code",
   "execution_count": 2,
   "id": "f24a8cb7",
   "metadata": {},
   "outputs": [],
   "source": [
    "chrome_options = webdriver.ChromeOptions()\n",
    "chrome_options.add_argument('--start-maximized')\n",
    "driver = webdriver.Chrome(options=chrome_options)\n",
    "driver.get(\"https://www.tripadvisor.com.br/\")\n",
    "sleep(3)"
   ]
  },
  {
   "cell_type": "code",
   "execution_count": 10,
   "id": "935c6280",
   "metadata": {},
   "outputs": [],
   "source": [
    "busca = driver.find_element(By.XPATH,'//*[@id=\"lithium-root\"]/main/div[3]/div/div/div/form/input[1]')\n",
    "busca.send_keys('itaboraí')\n",
    "busca.send_keys(Keys.RETURN)"
   ]
  },
  {
   "cell_type": "code",
   "execution_count": 11,
   "id": "43deb119",
   "metadata": {},
   "outputs": [],
   "source": [
    "buscaRestaurante = driver.find_element(By.XPATH,'//*[@id=\"search-filters\"]/ul/li[4]/a')\n",
    "buscaRestaurante.click()"
   ]
  },
  {
   "cell_type": "code",
   "execution_count": 13,
   "id": "2a99017d",
   "metadata": {},
   "outputs": [
    {
     "data": {
      "text/plain": [
       "30"
      ]
     },
     "execution_count": 13,
     "metadata": {},
     "output_type": "execute_result"
    }
   ],
   "source": [
    "restaurantes = driver.find_elements(By.CSS_SELECTOR,'.result-title')"
   ]
  },
  {
   "cell_type": "code",
   "execution_count": 67,
   "id": "96b95125",
   "metadata": {},
   "outputs": [],
   "source": [
    "driver.switch_to.window(driver.window_handles[0])"
   ]
  },
  {
   "cell_type": "code",
   "execution_count": 68,
   "id": "5b7da4d5",
   "metadata": {},
   "outputs": [
    {
     "name": "stdout",
     "output_type": "stream",
     "text": [
      "DR Pizza Itaborai 4,5  Avenida Carlos Lacerda 1025, Itaboraí, Estado do Rio de Janeiro 24801-000 Brasil https://www.tripadvisor.com.br/Restaurant_Review-g2342816-d6004249-Reviews-DR_Pizza_Itaborai-Itaborai_State_of_Rio_de_Janeiro.html +55 21 3637-1231 (55)\n",
      "Dimattoni Restaurate e Pizzaria 4,5  Rodovia BR 101 - KM293 Bairro São Joaquim, Itaboraí, Estado do Rio de Janeiro 24813-081 Brasil https://www.tripadvisor.com.br/Restaurant_Review-g2342816-d6802842-Reviews-Dimattoni_Restaurante_e_Pizzaria-Itaborai_State_of_Rio_de_Janeiro.html +55 21 99808-1423 (130)\n",
      "Kiosque do Alemão 3,5  Rodovia BR-101, KM 284, Itaboraí, Estado do Rio de Janeiro 28820-000 Brasil https://www.tripadvisor.com.br/Restaurant_Review-g2342816-d5718923-Reviews-Kiosque_do_Alemao-Itaborai_State_of_Rio_de_Janeiro.html +55 21 2645-8016 (211)\n",
      "Armazém Pub Café 4,0  Avenida Vinte E Dois de Maio 6363, Itaboraí, Estado do Rio de Janeiro 24800-258 Brasil https://www.tripadvisor.com.br/Restaurant_Review-g2342816-d12398637-Reviews-Armazem_Pub_Cafe-Itaborai_State_of_Rio_de_Janeiro.html 2126398372 (40)\n",
      "Mr Coffee 5,0  Avenida Raimundo de Farias 38 Lj 5 Centro, Itaboraí, Estado do Rio de Janeiro 24800-037 Brasil https://www.tripadvisor.com.br/Restaurant_Review-g2342816-d8182687-Reviews-Mr_Coffee-Itaborai_State_of_Rio_de_Janeiro.html 21-2645-6877 (14)\n",
      "Casa do Alemão 4,0  Rodovia BR101 - Km 284 Posto Shell Amigão, Itaboraí, Estado do Rio de Janeiro 24806-055 Brasil https://www.tripadvisor.com.br/Restaurant_Review-g2342816-d6716423-Reviews-Casa_do_Alemao-Itaborai_State_of_Rio_de_Janeiro.html +55(21) 3637-3836 (247)\n",
      "Ki Chopp 5,0  Rua Doutor Pereira dos Santos 104 Centro, Itaboraí, Estado do Rio de Janeiro 24800-041 Brasil https://www.tripadvisor.com.br/Restaurant_Review-g2342816-d8252410-Reviews-Ki_Chopp-Itaborai_State_of_Rio_de_Janeiro.html 99 (12)\n",
      "Pizzaria E Restaurante la Madrilenha 4,0  Praca Mal Floriano Peixoto, 117 Coophavila Ii, Itaboraí, Estado do Rio de Janeiro 24800-000 Brasil https://www.tripadvisor.com.br/Restaurant_Review-g2342816-d7869648-Reviews-Pizzaria_E_Restaurante_la_Madrilenha-Itaborai_State_of_Rio_de_Janeiro.html 2126352577 (27)\n",
      "Divino Crêpe 4,5  Rua Presidente Castelo Branco, 290 Centro, Itaboraí, Estado do Rio de Janeiro 24800-089 Brasil https://www.tripadvisor.com.br/Restaurant_Review-g2342816-d12309821-Reviews-Divino_Crepe-Itaborai_State_of_Rio_de_Janeiro.html 552136691982 (5)\n",
      "Brum & Mello Restaurante E Chopperia 4,5  Rua Vinte E Dois de Maio 3428, Itaboraí, Estado do Rio de Janeiro 24804-454 Brasil https://www.tripadvisor.com.br/Restaurant_Review-g2342816-d6893654-Reviews-Brum_Mello_Restaurante_E_Chopperia-Itaborai_State_of_Rio_de_Janeiro.html 99 (30)\n",
      "Tango e Carne 4,5  Rua 23 SN Jardim, Cachoeiras de Macacu, Estado do Rio de Janeiro 28680-000 Brasil https://www.tripadvisor.com.br/Restaurant_Review-g954096-d5366091-Reviews-Tango_e_Carne-Cachoeiras_de_Macacu_State_of_Rio_de_Janeiro.html 55 21 2745-1425 (84)\n",
      "Cacau Show 4,5  Av. Vinte e Dois de Maio 5300 Loja 4, Itaboraí, Estado do Rio de Janeiro 24800-000 Brasil https://www.tripadvisor.com.br/Restaurant_Review-g2342816-d4537624-Reviews-Cacau_Show-Itaborai_State_of_Rio_de_Janeiro.html +55 21 98708-1311 (36)\n",
      "Restaurante Satoro 5,0  AV 22 de Maio 7456 Loja 1, Venda Das Pedras, Itaboraí, Estado do Rio de Janeiro 24800-000 Brasil https://www.tripadvisor.com.br/Restaurant_Review-g2342816-d9795614-Reviews-Restaurante_Satoro-Itaborai_State_of_Rio_de_Janeiro.html 36370722 (37)\n",
      "Ghataria Do Norte 4,0  Rua Acacio Campos dos Santos 22, Itaboraí, Estado do Rio de Janeiro 24800-021 Brasil https://www.tripadvisor.com.br/Restaurant_Review-g2342816-d7215197-Reviews-Ghataria_Do_Norte-Itaborai_State_of_Rio_de_Janeiro.html 21-2639-0604 (6)\n",
      "Chopp Gril 4,0  Praca Mal Floriano Peixoto, 379 Centro, Itaboraí, Estado do Rio de Janeiro 24800-000 Brasil https://www.tripadvisor.com.br/Restaurant_Review-g2342816-d5346362-Reviews-Chopp_Gril-Itaborai_State_of_Rio_de_Janeiro.html +55 21 2639-0607 (26)\n",
      "Bar do Caranguejo 5,0  Av 22 de Maio, 2600, Itaboraí, Estado do Rio de Janeiro 24812-516 Brasil https://www.tripadvisor.com.br/Restaurant_Review-g2342816-d13375221-Reviews-Bar_do_Caranguejo-Itaborai_State_of_Rio_de_Janeiro.html +55 21 3639-5900 (3)\n",
      "Restaurante Ze Paraiba 4,5  Rua G, 210 Jd Melissa, Itaboraí, Estado do Rio de Janeiro 24800-000 Brasil https://www.tripadvisor.com.br/Restaurant_Review-g2342816-d5341184-Reviews-Restaurante_Ze_Paraiba-Itaborai_State_of_Rio_de_Janeiro.html 21-2645-5649 (16)\n",
      "Temperatto 4,0  Rua Doutor Mesquita 367 Edificio Prime Slj Centro, Itaboraí, Estado do Rio de Janeiro 24800-177 Brasil https://www.tripadvisor.com.br/Restaurant_Review-g2342816-d8252219-Reviews-Temperatto-Itaborai_State_of_Rio_de_Janeiro.html 99 (11)\n",
      "Bar Do Beco 3,5  Travessa Espirito Santo SN Panaquatira, Itaboraí, Estado do Rio de Janeiro 24800-169 Brasil https://www.tripadvisor.com.br/Restaurant_Review-g2342816-d5373651-Reviews-Bar_Do_Beco-Itaborai_State_of_Rio_de_Janeiro.html 2136392434 (10)\n",
      "Varandao Padaria 4,0  Avenida Afonso Salles SN Apolo Ii, Itaboraí, Estado do Rio de Janeiro 24858-556 Brasil https://www.tripadvisor.com.br/Restaurant_Review-g2342816-d6177327-Reviews-Varandao_Padaria-Itaborai_State_of_Rio_de_Janeiro.html 99 (1)\n",
      "Boteco Do Manolo - São Gonçalo 4,0  Avenida Sao Goncalo, 100 Boa Vista, São Gonçalo - RJ, São Gonçalo, Estado do Rio de Janeiro 24466-315 Brasil https://www.tripadvisor.com.br/Restaurant_Review-g1061211-d3259507-Reviews-Boteco_Do_Manolo-Sao_Goncalo_State_of_Rio_de_Janeiro.html 552135137261 (243)\n",
      "O Camarao Arte Bia 4,5  Avenida Sao Goncalo 100 Centro, São Gonçalo, Estado do Rio de Janeiro 24466-315 Brasil https://www.tripadvisor.com.br/Restaurant_Review-g1061211-d5357354-Reviews-O_Camarao_Arte_Bia-Sao_Goncalo_State_of_Rio_de_Janeiro.html 26041011 (260)\n",
      "Temperatto Gourmet 4,0  Praca Iedo Fiuzza, 58 Centro, Areal, Estado do Rio de Janeiro 25845-000 Brasil https://www.tripadvisor.com.br/Restaurant_Review-g2577886-d5762394-Reviews-Temperatto_Gourmet-Areal_State_of_Rio_de_Janeiro.html 99 (2)\n",
      "Ryca's Pizzaria 5,0  Rua 1, Lote 16, Itaboraí, Estado do Rio de Janeiro 24802-400 Brasil https://www.tripadvisor.com.br/Restaurant_Review-g2342816-d17655258-Reviews-Ryca_s_Pizzaria-Itaborai_State_of_Rio_de_Janeiro.html +55 21 3840-7555 (1)\n",
      "Carioca Burguer 5,0  Avenida Américo da Costa Cardoso Nova Cidade, Itaboraí, Estado do Rio de Janeiro 24804-033 Brasil https://www.tripadvisor.com.br/Restaurant_Review-g2342816-d16754495-Reviews-Carioca_Burguer-Itaborai_State_of_Rio_de_Janeiro.html 99 (1)\n",
      "Shola's Chopperia e Pizzaria 4,5  Rua Comandante Ary Parreiras, 509, Itaboraí, Estado do Rio de Janeiro 24804-772 Brasil https://www.tripadvisor.com.br/Restaurant_Review-g2342816-d3260001-Reviews-Shola_s_Chopperia_E_Pizzaria-Itaborai_State_of_Rio_de_Janeiro.html 21-2645 8398 (26)\n",
      "Radicall Sucos e Lanches 4,5  Rua Alfredo da Costa Garcia Apolo Ii Manilha, Itaboraí, Estado do Rio de Janeiro 24858-596 Brasil https://www.tripadvisor.com.br/Restaurant_Review-g2342816-d5750208-Reviews-Radicall_Sucos_e_Lanches-Itaborai_State_of_Rio_de_Janeiro.html 2136398928 (2)\n",
      "Bar e Restaurante Sítio do Peixe 5,0  Estrada da Duques Após a passarela e a Casa de Fogos, Itaboraí, Estado do Rio de Janeiro Brasil https://www.tripadvisor.com.br/Restaurant_Review-g2342816-d10746003-Reviews-Bar_e_Restaurante_Sitio_do_Peixe-Itaborai_State_of_Rio_de_Janeiro.html 2139131797 (7)\n",
      "Itapao 4,5  Travessa Agenor Castor dos Santos 30 Centro, Itaboraí, Estado do Rio de Janeiro 24800-153 Brasil https://www.tripadvisor.com.br/Restaurant_Review-g2342816-d5652075-Reviews-Itapao-Itaborai_State_of_Rio_de_Janeiro.html 99 (7)\n",
      "Armazém 83 5,0  Av. Pref. Milton Rodrigues da Rocha, 716, Manilha, Itaboraí, Estado do Rio de Janeiro 24860-124 Brasil https://www.tripadvisor.com.br/Restaurant_Review-g2342816-d13321090-Reviews-Armazem_83-Itaborai_State_of_Rio_de_Janeiro.html 99 (2)\n"
     ]
    }
   ],
   "source": [
    "for restaurante in restaurantes:\n",
    "    restaurante.click()\n",
    "    sleep(2)\n",
    "    driver.switch_to.window(driver.window_handles[1])\n",
    "    \n",
    "    nome = driver.find_element(By.XPATH,'//*[@data-test-target=\"top-info-header\"]').text\n",
    "    \n",
    "    \n",
    "    try:\n",
    "        nota = driver.find_element(By.CSS_SELECTOR,'.ZDEqb').text \n",
    "    except:\n",
    "        nota = 99\n",
    "    try:\n",
    "        endereco = driver.find_element(By.CSS_SELECTOR,'.kDZhm').text\n",
    "    except:\n",
    "        endereco = 99\n",
    "    url = driver.current_url\n",
    "    \n",
    "    try:\n",
    "        celular = driver.find_element(By.CSS_SELECTOR,'.AYHFM .BMQDV').text\n",
    "    except:\n",
    "        celular = 99\n",
    "        \n",
    "    try:\n",
    "        avaliacoes = driver.find_element(By.XPATH,'//*[@id=\"REVIEWS\"]/div[1]/div/div[1]/span').text\n",
    "    except:\n",
    "        avaliacoes = 99\n",
    "    \n",
    "    print(nome,nota,endereco,url,celular,avaliacoes)\n",
    "    \n",
    "    driver.close()\n",
    "    driver.switch_to.window(driver.window_handles[0])"
   ]
  },
  {
   "cell_type": "code",
   "execution_count": 55,
   "id": "a3281548",
   "metadata": {},
   "outputs": [
    {
     "data": {
      "text/plain": [
       "['Avenida Carlos Lacerda 1025, Itaboraí, Estado do Rio de Janeiro 24801-000 Brasil',\n",
       " 'Site',\n",
       " '+55 21 3637-1231']"
      ]
     },
     "execution_count": 55,
     "metadata": {},
     "output_type": "execute_result"
    }
   ],
   "source": [
    "list(map(lambda x: x.text,driver.find_elements(By.CSS_SELECTOR,'.yEWoV')))"
   ]
  }
 ],
 "metadata": {
  "kernelspec": {
   "display_name": "Python 3 (ipykernel)",
   "language": "python",
   "name": "python3"
  },
  "language_info": {
   "codemirror_mode": {
    "name": "ipython",
    "version": 3
   },
   "file_extension": ".py",
   "mimetype": "text/x-python",
   "name": "python",
   "nbconvert_exporter": "python",
   "pygments_lexer": "ipython3",
   "version": "3.8.11"
  }
 },
 "nbformat": 4,
 "nbformat_minor": 5
}
