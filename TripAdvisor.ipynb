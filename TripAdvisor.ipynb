{
 "cells": [
  {
   "cell_type": "code",
   "execution_count": null,
   "id": "1111bf11",
   "metadata": {},
   "outputs": [],
   "source": [
    "from selenium import webdriver\n",
    "from selenium.webdriver.common.by import By\n",
    "from selenium.webdriver.common.keys import Keys\n",
    "from selenium.webdriver.support.ui import WebDriverWait\n",
    "from time import sleep"
   ]
  },
  {
   "cell_type": "code",
   "execution_count": null,
   "id": "f24a8cb7",
   "metadata": {},
   "outputs": [],
   "source": [
    "chrome_options = webdriver.ChromeOptions()\n",
    "chrome_options.add_argument('--start-maximized')\n",
    "driver = webdriver.Chrome(options=chrome_options)\n",
    "driver.get(\"https://www.tripadvisor.com.br/\")\n",
    "sleep(3)"
   ]
  },
  {
   "cell_type": "code",
   "execution_count": null,
   "id": "935c6280",
   "metadata": {},
   "outputs": [],
   "source": [
    "busca = driver.find_element(By.XPATH,'//*[@id=\"lithium-root\"]/main/div[3]/div/div/div/form/input[1]')\n",
    "busca.send_keys('itaboraí')\n",
    "busca.send_keys(Keys.RETURN)"
   ]
  },
  {
   "cell_type": "code",
   "execution_count": null,
   "id": "43deb119",
   "metadata": {},
   "outputs": [],
   "source": [
    "buscaRestaurante = driver.find_element(By.XPATH,'//*[@id=\"search-filters\"]/ul/li[4]/a')\n",
    "buscaRestaurante.click()"
   ]
  },
  {
   "cell_type": "code",
   "execution_count": null,
   "id": "27dac0bf",
   "metadata": {},
   "outputs": [],
   "source": [
    "qtdPag = driver.find_elements(By.CSS_SELECTOR,'.pageNum')[-1]\n",
    "qtdPag = int(qtdPag.text)"
   ]
  },
  {
   "cell_type": "code",
   "execution_count": null,
   "id": "96b95125",
   "metadata": {},
   "outputs": [],
   "source": [
    "driver.switch_to.window(driver.window_handles[0])"
   ]
  },
  {
   "cell_type": "code",
   "execution_count": null,
   "id": "d3e97697",
   "metadata": {},
   "outputs": [],
   "source": [
    "import csv"
   ]
  },
  {
   "cell_type": "code",
   "execution_count": null,
   "id": "5b7da4d5",
   "metadata": {},
   "outputs": [],
   "source": [
    "with open('data/tweets.csv', 'w', encoding=\"utf-8-sig\") as tweets_file:\n",
    "    field_names = [\n",
    "        'nome', \n",
    "        'nota',\n",
    "        'endereco',\n",
    "        'celular', \n",
    "        'avaliacoes',\n",
    "        'url' \n",
    "    ]\n",
    "\n",
    "    csv_writer = csv.DictWriter(tweets_file, fieldnames=field_names, delimiter=';', quoting=csv.QUOTE_ALL)\n",
    "    csv_writer.writeheader()\n",
    "\n",
    "    for i in range(qtdPag-1):\n",
    "        restaurantes = driver.find_elements(By.CSS_SELECTOR,'.result-title')\n",
    "        for restaurante in restaurantes:\n",
    "            restaurante.click()\n",
    "            sleep(3)\n",
    "            driver.switch_to.window(driver.window_handles[1])\n",
    "            \n",
    "            try:\n",
    "                nome = driver.find_element(By.XPATH,'//*[@data-test-target=\"top-info-header\"]').text\n",
    "            except:\n",
    "                nome = 99\n",
    "            try:\n",
    "                nota = driver.find_element(By.CSS_SELECTOR,'.ZDEqb').text \n",
    "            except:\n",
    "                nota = 99\n",
    "            try:\n",
    "                endereco = driver.find_element(By.CSS_SELECTOR,'.kDZhm').text\n",
    "            except:\n",
    "                endereco = 99\n",
    "            url = driver.current_url\n",
    "\n",
    "            try:\n",
    "                celular = driver.find_element(By.CSS_SELECTOR,'.AYHFM .BMQDV').text\n",
    "            except:\n",
    "                celular = 99\n",
    "            try:\n",
    "                avaliacoes = driver.find_element(By.XPATH,'//*[@id=\"REVIEWS\"]/div[1]/div/div[1]/span').text\n",
    "            except:\n",
    "                avaliacoes = 99\n",
    "\n",
    "            print(nome, nota, endereco, url, celular, avaliacoes)\n",
    "            csv_writer.writerow(dict(zip(field_names, [nome, nota, endereco, celular, avaliacoes, url])))\n",
    "\n",
    "            driver.close()\n",
    "            driver.switch_to.window(driver.window_handles[0])\n",
    "            \n",
    "        \n",
    "        prox = driver.find_element(By.CSS_SELECTOR,'.ui_pagination .next')\n",
    "        prox.click()\n",
    "        print('------------------------', i+2, '----------------------------------\\b')\n",
    "        sleep(5)"
   ]
  },
  {
   "cell_type": "code",
   "execution_count": null,
   "id": "a3281548",
   "metadata": {},
   "outputs": [],
   "source": [
    "list(map(lambda x: x.text,driver.find_elements(By.CSS_SELECTOR,'.yEWoV')))"
   ]
  }
 ],
 "metadata": {
  "kernelspec": {
   "display_name": "Python 3 (ipykernel)",
   "language": "python",
   "name": "python3"
  },
  "language_info": {
   "codemirror_mode": {
    "name": "ipython",
    "version": 3
   },
   "file_extension": ".py",
   "mimetype": "text/x-python",
   "name": "python",
   "nbconvert_exporter": "python",
   "pygments_lexer": "ipython3",
   "version": "3.8.11"
  }
 },
 "nbformat": 4,
 "nbformat_minor": 5
}
